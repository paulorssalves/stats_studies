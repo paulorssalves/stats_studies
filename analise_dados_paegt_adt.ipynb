{
 "cells": [
  {
   "cell_type": "code",
   "execution_count": 1,
   "metadata": {},
   "outputs": [],
   "source": [
    "import pandas as pd\n",
    "import re\n",
    "from datetime import date, datetime"
   ]
  },
  {
   "cell_type": "code",
   "execution_count": 2,
   "metadata": {},
   "outputs": [],
   "source": [
    "def calculate_age(born, answer_date):\n",
    "    return answer_date.year - born.year - ((answer_date.month, answer_date.day) < (born.month, born.day))"
   ]
  },
  {
   "cell_type": "code",
   "execution_count": 3,
   "metadata": {
    "scrolled": true
   },
   "outputs": [],
   "source": [
    "data = pd.read_csv(\"data/impacto9.csv\", delimiter=\",\")"
   ]
  },
  {
   "cell_type": "code",
   "execution_count": 4,
   "metadata": {},
   "outputs": [],
   "source": [
    "birthdate = data[\"Data de nascimento\"]\n",
    "answer_date = data[\"Carimbo de data/hora\"]\n",
    "\n",
    "date_booleans = []\n",
    "\"\"\"\n",
    "for item in birthdate:\n",
    "    birth_date_object = datetime.strptime(item, '%Y-%m-%d')\n",
    "    age = calculate_age(birth_date_object)\n",
    "    if (age >= 18 and age <= 30):\n",
    "        date_booleans.append(True)\n",
    "    else:\n",
    "        date_booleans.append(False)\n",
    "\"\"\"\n",
    "for pair in zip(birthdate, answer_date):\n",
    "    birth_date_object = datetime.strptime(pair[0], '%Y-%m-%d')\n",
    "    answer_date_object = datetime.strptime(pair[1][0:10],'%Y/%m/%d')\n",
    "    age = calculate_age(birth_date_object, answer_date_object)\n",
    "    if (age >= 18 and age <= 30):\n",
    "        date_booleans.append(True)\n",
    "    else:\n",
    "        date_booleans.append(False)"
   ]
  },
  {
   "cell_type": "code",
   "execution_count": 5,
   "metadata": {},
   "outputs": [],
   "source": [
    "data_age_filtered = data[date_booleans]\n",
    "gender = data_age_filtered.Gênero"
   ]
  },
  {
   "cell_type": "code",
   "execution_count": 6,
   "metadata": {},
   "outputs": [],
   "source": [
    "homens = []\n",
    "mulheres = []\n",
    "for item in gender:\n",
    "    if re.search(\"Masculino\", item):\n",
    "        homens.append(True)\n",
    "    else:\n",
    "        homens.append(False)\n",
    "    if re.search(\"Feminino\", item):\n",
    "        mulheres.append(True)\n",
    "    else:\n",
    "        mulheres.append(False)\n",
    "        \n",
    "women_filter = pd.Series(mulheres)\n",
    "filtered_age_women = data_age_filtered[mulheres]\n",
    "filtered_age_men = data_age_filtered[homens]"
   ]
  },
  {
   "cell_type": "code",
   "execution_count": 7,
   "metadata": {},
   "outputs": [],
   "source": [
    "periodo_mulheres = filtered_age_women[\"Atual período da formação\"]\n",
    "mulheres_iniciantes = 0\n",
    "mulheres_finalistas = 0\n",
    "for value in periodo_mulheres:\n",
    "    if value == \"Entre o oitavo e o décimo período\":\n",
    "        mulheres_finalistas += 1\n",
    "    elif value == \"Entre o primeiro e o terceiro período\":\n",
    "        mulheres_iniciantes += 1"
   ]
  },
  {
   "cell_type": "code",
   "execution_count": 8,
   "metadata": {
    "scrolled": true
   },
   "outputs": [
    {
     "name": "stdout",
     "output_type": "stream",
     "text": [
      "256\n",
      "300\n"
     ]
    }
   ],
   "source": [
    "print(mulheres_iniciantes)\n",
    "print(mulheres_finalistas)"
   ]
  },
  {
   "cell_type": "code",
   "execution_count": 9,
   "metadata": {},
   "outputs": [
    {
     "name": "stdout",
     "output_type": "stream",
     "text": [
      "95\n",
      "99\n"
     ]
    }
   ],
   "source": [
    "periodo_homens = filtered_age_men[\"Atual período da formação\"]\n",
    "homens_iniciantes = 0\n",
    "homens_finalistas = 0\n",
    "for value in periodo_homens:\n",
    "    if value == \"Entre o oitavo e o décimo período\":\n",
    "        homens_finalistas += 1\n",
    "    elif value == \"Entre o primeiro e o terceiro período\":\n",
    "        homens_iniciantes += 1\n",
    "print(homens_iniciantes)\n",
    "print(homens_finalistas)"
   ]
  },
  {
   "cell_type": "code",
   "execution_count": 10,
   "metadata": {},
   "outputs": [],
   "source": [
    "mulheres_total = mulheres_iniciantes+mulheres_finalistas\n",
    "homens_total = homens_iniciantes+homens_finalistas"
   ]
  },
  {
   "cell_type": "code",
   "execution_count": 11,
   "metadata": {},
   "outputs": [
    {
     "data": {
      "text/plain": [
       "750"
      ]
     },
     "execution_count": 11,
     "metadata": {},
     "output_type": "execute_result"
    }
   ],
   "source": [
    "mulheres_total+homens_total"
   ]
  },
  {
   "cell_type": "code",
   "execution_count": 12,
   "metadata": {},
   "outputs": [
    {
     "data": {
      "text/plain": [
       "556"
      ]
     },
     "execution_count": 12,
     "metadata": {},
     "output_type": "execute_result"
    }
   ],
   "source": [
    "mulheres_total"
   ]
  },
  {
   "cell_type": "code",
   "execution_count": 13,
   "metadata": {},
   "outputs": [
    {
     "data": {
      "text/plain": [
       "194"
      ]
     },
     "execution_count": 13,
     "metadata": {},
     "output_type": "execute_result"
    }
   ],
   "source": [
    "homens_total"
   ]
  },
  {
   "cell_type": "code",
   "execution_count": 14,
   "metadata": {},
   "outputs": [
    {
     "data": {
      "text/plain": [
       "141"
      ]
     },
     "execution_count": 14,
     "metadata": {},
     "output_type": "execute_result"
    }
   ],
   "source": [
    "homens_intermediarios=0\n",
    "for value in periodo_homens:\n",
    "    if value == \"Entre o quarto e o sétimo período\":\n",
    "        homens_intermediarios+=1\n",
    "homens_intermediarios"
   ]
  },
  {
   "cell_type": "code",
   "execution_count": 15,
   "metadata": {},
   "outputs": [
    {
     "data": {
      "text/plain": [
       "439"
      ]
     },
     "execution_count": 15,
     "metadata": {},
     "output_type": "execute_result"
    }
   ],
   "source": [
    "mulheres_intermediarias=0\n",
    "for value in periodo_mulheres:\n",
    "    if value == \"Entre o quarto e o sétimo período\":\n",
    "        mulheres_intermediarias += 1\n",
    "mulheres_intermediarias"
   ]
  },
  {
   "cell_type": "code",
   "execution_count": 16,
   "metadata": {},
   "outputs": [
    {
     "data": {
      "text/plain": [
       "0.5791044776119403"
      ]
     },
     "execution_count": 16,
     "metadata": {},
     "output_type": "execute_result"
    }
   ],
   "source": [
    "def percentage(sample_n, valuable_amount):\n",
    "    x = valuable_amount / sample_n\n",
    "    return x\n",
    "percentage(homens_total+homens_intermediarios, homens_total)"
   ]
  },
  {
   "cell_type": "code",
   "execution_count": 17,
   "metadata": {},
   "outputs": [
    {
     "data": {
      "text/plain": [
       "385"
      ]
     },
     "execution_count": 17,
     "metadata": {},
     "output_type": "execute_result"
    }
   ],
   "source": [
    "len(periodo_homens)"
   ]
  },
  {
   "cell_type": "code",
   "execution_count": 18,
   "metadata": {},
   "outputs": [
    {
     "data": {
      "text/plain": [
       "95"
      ]
     },
     "execution_count": 18,
     "metadata": {},
     "output_type": "execute_result"
    }
   ],
   "source": [
    "homens_iniciantes"
   ]
  },
  {
   "cell_type": "code",
   "execution_count": 19,
   "metadata": {},
   "outputs": [
    {
     "data": {
      "text/plain": [
       "141"
      ]
     },
     "execution_count": 19,
     "metadata": {},
     "output_type": "execute_result"
    }
   ],
   "source": [
    "homens_intermediarios"
   ]
  },
  {
   "cell_type": "code",
   "execution_count": 20,
   "metadata": {},
   "outputs": [
    {
     "data": {
      "text/plain": [
       "99"
      ]
     },
     "execution_count": 20,
     "metadata": {},
     "output_type": "execute_result"
    }
   ],
   "source": [
    "homens_finalistas"
   ]
  },
  {
   "cell_type": "code",
   "execution_count": 21,
   "metadata": {},
   "outputs": [
    {
     "data": {
      "text/plain": [
       "335"
      ]
     },
     "execution_count": 21,
     "metadata": {},
     "output_type": "execute_result"
    }
   ],
   "source": [
    "homens_intermediarios+homens_finalistas+homens_iniciantes"
   ]
  },
  {
   "cell_type": "code",
   "execution_count": 22,
   "metadata": {},
   "outputs": [],
   "source": [
    "gender = data[\"Gênero\"]\n",
    "inicio = 0\n",
    "fim = 0\n",
    "meio = 0\n",
    "estourado = 0\n",
    "for item in periodo_homens: \n",
    "    if item == \"Além do décimo período\":\n",
    "        estourado+=1\n",
    "    elif item == \"Entre o primeiro e o terceiro período\":\n",
    "        inicio+=1\n",
    "    elif item == \"Entre o quarto e o sétimo período\":\n",
    "        meio +=1\n",
    "    elif item == \"Entre o oitavo e o décimo período\":\n",
    "        fim += 1"
   ]
  },
  {
   "cell_type": "code",
   "execution_count": 23,
   "metadata": {},
   "outputs": [
    {
     "name": "stdout",
     "output_type": "stream",
     "text": [
      "191\n",
      "194\n"
     ]
    }
   ],
   "source": [
    "print(meio + estourado)\n",
    "print(inicio + fim)"
   ]
  },
  {
   "cell_type": "code",
   "execution_count": 24,
   "metadata": {},
   "outputs": [
    {
     "name": "stdout",
     "output_type": "stream",
     "text": [
      "inicio: 95; meio: 141; fim: 99, estourado: 50\n",
      "total: 385\n"
     ]
    }
   ],
   "source": [
    "print(\"inicio: {}; meio: {}; fim: {}, estourado: {}\".format(inicio, meio, fim, estourado))\n",
    "print(\"total: {}\".format(sum([inicio, meio, fim, estourado])))\n",
    "total_h = inicio+fim+meio+estourado\n",
    "valido_h = inicio+fim"
   ]
  },
  {
   "cell_type": "code",
   "execution_count": 25,
   "metadata": {},
   "outputs": [],
   "source": [
    "birthdate = data[\"Data de nascimento\"]\n",
    "answer_date = data[\"Carimbo de data/hora\"]\n",
    "\n",
    "date_booleans = []\n",
    "\n",
    "for pair in zip(birthdate, answer_date):\n",
    "    birth_date_object = datetime.strptime(pair[0], '%Y-%m-%d')\n",
    "    answer_date_object = datetime.strptime(pair[1][0:10],'%Y/%m/%d')\n",
    "    age = calculate_age(birth_date_object, answer_date_object)\n",
    "    if (age >= 18 and age <= 30):\n",
    "        date_booleans.append(True)\n",
    "    else:\n",
    "        date_booleans.append(False)"
   ]
  },
  {
   "cell_type": "code",
   "execution_count": 26,
   "metadata": {},
   "outputs": [],
   "source": [
    "gender = data[\"Gênero\"]\n",
    "inicio = 0\n",
    "fim = 0\n",
    "meio = 0\n",
    "estourado = 0\n",
    "for item in periodo_mulheres: \n",
    "    if item == \"Além do décimo período\":\n",
    "        estourado+=1\n",
    "    elif item == \"Entre o primeiro e o terceiro período\":\n",
    "        inicio+=1\n",
    "    elif item == \"Entre o quarto e o sétimo período\":\n",
    "        meio +=1\n",
    "    elif item == \"Entre o oitavo e o décimo período\":\n",
    "        fim += 1"
   ]
  },
  {
   "cell_type": "code",
   "execution_count": 27,
   "metadata": {},
   "outputs": [
    {
     "name": "stdout",
     "output_type": "stream",
     "text": [
      "inicio: 256; meio: 439; fim: 300, estourado: 103\n",
      "total: 1098\n"
     ]
    }
   ],
   "source": [
    "print(\"inicio: {}; meio: {}; fim: {}, estourado: {}\".format(inicio, meio, fim, estourado))\n",
    "print(\"total: {}\".format(sum([inicio, meio, fim, estourado])))\n",
    "total_f = inicio+fim+meio+estourado\n",
    "valido_f = inicio+fim"
   ]
  },
  {
   "cell_type": "code",
   "execution_count": 28,
   "metadata": {},
   "outputs": [],
   "source": [
    "respostas_uteis = len(data_age_filtered)"
   ]
  },
  {
   "cell_type": "code",
   "execution_count": 29,
   "metadata": {},
   "outputs": [
    {
     "data": {
      "text/plain": [
       "1492"
      ]
     },
     "execution_count": 29,
     "metadata": {},
     "output_type": "execute_result"
    }
   ],
   "source": [
    "respostas_uteis"
   ]
  },
  {
   "cell_type": "code",
   "execution_count": 30,
   "metadata": {},
   "outputs": [],
   "source": [
    "total_t = total_h + total_f"
   ]
  },
  {
   "cell_type": "code",
   "execution_count": 31,
   "metadata": {},
   "outputs": [
    {
     "data": {
      "text/plain": [
       "0.2596089008766015"
      ]
     },
     "execution_count": 31,
     "metadata": {},
     "output_type": "execute_result"
    }
   ],
   "source": [
    "total_h/total_t"
   ]
  },
  {
   "cell_type": "code",
   "execution_count": 32,
   "metadata": {},
   "outputs": [
    {
     "data": {
      "text/plain": [
       "1779"
      ]
     },
     "execution_count": 32,
     "metadata": {},
     "output_type": "execute_result"
    }
   ],
   "source": [
    "len(data)"
   ]
  },
  {
   "cell_type": "code",
   "execution_count": 33,
   "metadata": {},
   "outputs": [
    {
     "data": {
      "text/plain": [
       "1483"
      ]
     },
     "execution_count": 33,
     "metadata": {},
     "output_type": "execute_result"
    }
   ],
   "source": [
    "total_t"
   ]
  },
  {
   "cell_type": "code",
   "execution_count": 34,
   "metadata": {},
   "outputs": [
    {
     "data": {
      "text/plain": [
       "0.5063752276867031"
      ]
     },
     "execution_count": 34,
     "metadata": {},
     "output_type": "execute_result"
    }
   ],
   "source": [
    "valido_f/total_f"
   ]
  },
  {
   "cell_type": "code",
   "execution_count": 35,
   "metadata": {},
   "outputs": [
    {
     "data": {
      "text/plain": [
       "0.5038961038961038"
      ]
     },
     "execution_count": 35,
     "metadata": {},
     "output_type": "execute_result"
    }
   ],
   "source": [
    "valido_h/total_h"
   ]
  },
  {
   "cell_type": "code",
   "execution_count": 36,
   "metadata": {},
   "outputs": [
    {
     "data": {
      "text/plain": [
       "0.5057316250842886"
      ]
     },
     "execution_count": 36,
     "metadata": {},
     "output_type": "execute_result"
    }
   ],
   "source": [
    "valido_f/total_t + valido_h/total_t"
   ]
  },
  {
   "cell_type": "code",
   "execution_count": 37,
   "metadata": {},
   "outputs": [
    {
     "data": {
      "text/plain": [
       "0.42158516020236086"
      ]
     },
     "execution_count": 37,
     "metadata": {},
     "output_type": "execute_result"
    }
   ],
   "source": [
    "(valido_f + valido_h) / len(data)"
   ]
  },
  {
   "cell_type": "code",
   "execution_count": 38,
   "metadata": {},
   "outputs": [
    {
     "data": {
      "text/plain": [
       "0.21641371557054526"
      ]
     },
     "execution_count": 38,
     "metadata": {},
     "output_type": "execute_result"
    }
   ],
   "source": [
    "total_h/len(data)"
   ]
  },
  {
   "cell_type": "code",
   "execution_count": 39,
   "metadata": {},
   "outputs": [
    {
     "data": {
      "text/plain": [
       "0.31253513209668354"
      ]
     },
     "execution_count": 39,
     "metadata": {},
     "output_type": "execute_result"
    }
   ],
   "source": [
    "valido_f/len(data)"
   ]
  },
  {
   "cell_type": "code",
   "execution_count": 40,
   "metadata": {},
   "outputs": [],
   "source": [
    "coef = valido_h/len(data)"
   ]
  },
  {
   "cell_type": "code",
   "execution_count": 41,
   "metadata": {},
   "outputs": [
    {
     "data": {
      "text/plain": [
       "276.8780213603148"
      ]
     },
     "execution_count": 41,
     "metadata": {},
     "output_type": "execute_result"
    }
   ],
   "source": [
    "coef * 2539"
   ]
  },
  {
   "cell_type": "code",
   "execution_count": 42,
   "metadata": {},
   "outputs": [
    {
     "data": {
      "text/plain": [
       "0.5026809651474531"
      ]
     },
     "execution_count": 42,
     "metadata": {},
     "output_type": "execute_result"
    }
   ],
   "source": [
    "(valido_f+valido_h)/len(data_age_filtered)"
   ]
  },
  {
   "cell_type": "code",
   "execution_count": 43,
   "metadata": {},
   "outputs": [
    {
     "data": {
      "text/plain": [
       "0.10905002810567735"
      ]
     },
     "execution_count": 43,
     "metadata": {},
     "output_type": "execute_result"
    }
   ],
   "source": [
    "valido_h/len(data)"
   ]
  },
  {
   "cell_type": "code",
   "execution_count": 44,
   "metadata": {},
   "outputs": [
    {
     "data": {
      "text/plain": [
       "1779"
      ]
     },
     "execution_count": 44,
     "metadata": {},
     "output_type": "execute_result"
    }
   ],
   "source": [
    "len(data)"
   ]
  },
  {
   "cell_type": "code",
   "execution_count": null,
   "metadata": {},
   "outputs": [],
   "source": []
  },
  {
   "cell_type": "code",
   "execution_count": 45,
   "metadata": {},
   "outputs": [],
   "source": [
    "filter_not_6th_october = []\n",
    "for field in birthdate:\n",
    "    if \"2020/10/06\" in field:\n",
    "        filter_not_6th_october.append(True)\n",
    "    else:\n",
    "        filter_not_6th_october.append(False)"
   ]
  },
  {
   "cell_type": "code",
   "execution_count": 46,
   "metadata": {},
   "outputs": [],
   "source": [
    "juliana_filter = []\n",
    "for field in data.values:\n",
    "    if \"2020/10/06\" in field[0] and field[2] == \"1998-02-07\":\n",
    "        juliana_filter.append(True)\n",
    "    else:\n",
    "        juliana_filter.append(False)"
   ]
  },
  {
   "cell_type": "code",
   "execution_count": 47,
   "metadata": {},
   "outputs": [],
   "source": [
    "juliana_data = data[juliana_filter]"
   ]
  },
  {
   "cell_type": "code",
   "execution_count": 48,
   "metadata": {},
   "outputs": [
    {
     "name": "stdout",
     "output_type": "stream",
     "text": [
      "0  -  Carimbo de data/hora\n",
      "1  -  Ao clicar em \"concordo\" abaixo declaro que estou de acordo com os termos acima expostos.\n",
      "2  -  Data de nascimento\n",
      "3  -  Gênero\n",
      "4  -  Região do país\n",
      "5  -  Estado Civil\n",
      "6  -  Religião\n",
      "7  -  Tipo de ensino\n",
      "8  -  Instituição de ensino\n",
      "9  -  Curso\n",
      "10  -  Atual período da formação\n",
      "11  -  Ocupação\n",
      "12  -  É a primeira vez que você está cursando o Ensino Superior?\n",
      "13  -  Quantos banheiros há em sua casa?\n",
      "14  -  Quantos empregados domésticos trabalham em sua casa?\n",
      "15  -  Quantos automóveis há em sua casa?\n",
      "16  -  Quantos computadores há em sua casa?\n",
      "17  -  Quantos lava-louças há na sua casa?\n",
      "18  -  Quantas geladeiras há na sua casa?\n",
      "19  -  Quantos freezers há na sua casa?\n",
      "20  -  Quantos lava-roupas há na sua casa?\n",
      "21  -  Quantos aparelhos micro-ondas há na sua casa?\n",
      "22  -  Quantos secadores de roupas há na sua casa?\n",
      "23  -  Quantos aparelhos de televisão há na sua casa?\n",
      "24  -  Quantas motocicletas há na sua casa?\n",
      "25  -  Na sua casa há agua encanada?\n",
      "26  -  A rua da sua casa é pavimentada?\n",
      "27  -  Na sua família (pais, irmãos) alguém frequentou o Ensino Superior?\n",
      "28  -  Escolaridade do pai\n",
      "29  -  Escolaridade da mãe\n",
      "30  -  Poucas vezes planejo as atividades do meu próximo dia.\n",
      "31  -  Sempre deixo coisas urgentes para fazer.\n",
      "32  -  Às vezes deixo sem terminar o que começo\n",
      "33  -  Ao dar uma informação, é comum ter que repeti-la pois as pessoas têm dificuldade em me entender\n",
      "34  -  Depois de tomar uma decisão, fico em dúvida se foi a melhor\n",
      "35  -  É difícil evitar problemas. Eles sempre acabam aparecendo.\n",
      "36  -  Tenho dificuldades para delegar atividades de certa responsabilidade\n",
      "37  -  Evito dizer \"não\" às pessoas\n",
      "38  -  É comum faltar-me tempo para fazer as coisas importantes\n",
      "39  -  Antes de enviar um e-mail, leio e releio para ter certeza de que não tem erros\n",
      "40  -  É inútil ter objetivos na vida, pois o que vale mesmo é o destino\n",
      "41  -  Tenho certa dificuldade em reformular planos estabelecidos\n",
      "42  -  Tenho dificuldade para concentrar-me no que estou fazendo\n",
      "43  -  Prefiro resolver as coisas na hora do que planejar com antecedência\n",
      "44  -  Prefiro resolver problemas depois de eles acontecerem\n",
      "45  -  Às vezes esqueço onde pus papéis, documentos e objetos\n",
      "46  -  Tenho dificuldade para expressar minhas ideias\n",
      "47  -  Tenho uma tendência a adiar as decisões\n",
      "48  -  A maioria dos problemas tem causas que dificilmente podem ser previstas\n",
      "49  -  Uso boa parte do meu tempo fazendo coisas que outros poderiam fazer\n",
      "50  -  Quando as pessoas me pedem ajuda, dificilmente recuso-me a ajudá-las\n",
      "51  -  Minhas prioridades são estabelecidas de acordo com a urgência\n",
      "52  -  As pessoas dizem que sou detalhista\n",
      "53  -  Procuro tocar a vida pra frente sem esquentar muito a cabeça com o futuro\n",
      "54  -  Quando acho que algo está certo(a) ou errado(a), ninguém me convence do contrário\n",
      "55  -  Dificilmente me desligo do que está acontecendo à minha volta\n",
      "56  -  Faço as coisas sem me preocupar com o tempo\n",
      "57  -  Quando ocorre uma crise, procuro resolvê-la, em vez de perder meu tempo pensando em como ela poderia ser evitada\n",
      "58  -  Costumo fazer várias coisas ao mesmo tempo\n",
      "59  -  Minha dificuldade de me comunicar com as pessoas atrapalha o rendimento das minhas atividades\n",
      "60  -  Tomar decisões é uma tarefa difícil\n",
      "61  -  Os problemas surgem sem que ninguém perceba\n",
      "62  -  Há coisas que gosto de fazer e que não delego por nada neste mundo\n",
      "63  -  Dificilmente deixo de atender a uma visita inesperada, mesmo que esteja ocupado(a)\n",
      "64  -  Dificilmente estabeleço prazos para minhas tarefas\n",
      "65  -  Sou exigente comigo mesmo(a) e com os outros\n",
      "66  -  No mundo de hoje, onde tudo muda tão rapidamente, não adianta ter objetivos pessoais\n",
      "67  -  Quando planejo o meu dia, cumpro o meu planejamento, custe o que custar\n",
      "68  -  As pessoas dizem que sou dispersivo(a)\n",
      "69  -  Quanto sou capaz de aprender os conteúdos que são necessários à minha formação?\n",
      "70  -  Quanto sou capaz de utilizar estratégias cognitivas para facilitar minha aprendizagem?\n",
      "71  -  Quanto sou capaz de demonstrar, nos momentos de avaliação, o que aprendi durante o meu curso?\n",
      "72  -  Quanto sou capaz de entender as exigências do meu curso?\n",
      "73  -  Quanto sou capaz de expressas minha opinão quando outro colega de sala discorda de mim?\n",
      "74  -  Quanto sou capaz de pedir ajuda, quando necessário, aos colegas nas atividades do curso?\n",
      "75  -  Quanto sou capaz de reivindicar atividades extracurriculares relevantes para a minha formação?\n",
      "76  -  Quanto sou capaz de planejar ações para atingir minhas metas profissionais?\n",
      "77  -  Quanto sou capaz de refletir sobre a realização de minhas metas de formação?\n",
      "78  -  Quanto sou capaz de selecionar, dentre os recursos oferecidos pela instituição, o mais apropriado à minha formação?\n",
      "79  -  Quanto sou capaz de aplicar o conhecimento aprendido no curso em situações práticas?\n",
      "80  -  Quanto sou capaz de estabelecer condições para o desenvolvimento dos trabalhos solicitados pelo curso?\n",
      "81  -  Quanto sou capaz de trabalhar em grupo?\n",
      "82  -  Quanto sou capaz de compreender os conteúdos abordados no curso?\n",
      "83  -  Quanto sou capaz de manter-me atualizado sobre as novas tendências profissionais na minha área de formação?\n",
      "84  -  Quanto sou capaz de tomar decisões relacionadas à minha formação?\n",
      "85  -  Quanto sou capaz de cooperar com os colegas nas atividades do curso?\n",
      "86  -  Quanto sou capaz de esforçar-me nas atividades acadêmicas?\n",
      "87  -  Quanto sou capaz de definir, com segurança, o que pretendo seguir dentre as diversas possibilidades de atuação profissional que existem na minha área de formação?\n",
      "88  -  Quanto sou capaz de procurar auxílio dos professores para o desenvolvimento de atividades do curso?\n",
      "89  -  Quanto sou capaz de motivar-me para fazer as atividades ligadas ao curso?\n",
      "90  -  Quanto sou capaz de estabelecer minhas metas profissionais?\n",
      "91  -  Quanto sou capaz de estabelecer bom relacionamento com meus professores?\n",
      "92  -  Quanto sou capaz de cumprir o desempenho exigido para aprovação no curso?\n",
      "93  -  Quanto sou capaz de contribuir com ideias para a melhoria do meu curso?\n",
      "94  -  Quanto sou capaz de terminar trabalhos do curso dentro do prazo estabelecido?\n",
      "95  -  Quanto sou capaz de planejar a realização das atividades solicitadas pelo curso?\n",
      "96  -  Quanto sou capaz de perguntar quando tenho dúvida?\n",
      "97  -  Quanto sou capaz de estabelcer amizades com os colegas do curso?\n",
      "98  -  Quanto sou capaz de atualizar os conhecimentos adquiridos no curso?\n",
      "99  -  Quanto sou capaz de resolver problemas inesperados relacionados à minha formação?\n",
      "100  -  Quanto sou capaz de preparar-me para as avaliações?\n",
      "101  -  Quanto sou capaz de aproveitar as oportunidades de participar em atividades extracurriculares?\n",
      "102  -  Quanto sou capaz de buscar informações sobre os recursos ou programas oferecidos pela minha instituição?\n",
      "103  -  Fazer a tarefa me deixa ansioso(a), pois fico com medo de não conseguir fazer dirieto ou atingir um bom resultado\n",
      "104  -  Tenho preguiça de fazer a tarefa\n",
      "105  -  Eu não me sinto capaz de fazer sozinho(a) a tarefa\n",
      "106  -  Eu espero fazer a tarefa tão bem-feita que tenho dificuldade de começar\n",
      "107  -  Sinto-me cansado e sem energia para começar a tarefa\n",
      "108  -  Acho elevado o grau de dificuldade da tarefa\n",
      "109  -  Falta-me tempo para fazer a tarefa\n",
      "110  -  Eu me motivo mais para realizar a tarefa se estou sob pressão\n"
     ]
    }
   ],
   "source": [
    "number = 0\n",
    "for item in juliana_data.columns:\n",
    "    print(number, \" - \", item)\n",
    "    number+=1"
   ]
  },
  {
   "cell_type": "code",
   "execution_count": 49,
   "metadata": {},
   "outputs": [],
   "source": [
    "juliana_adt = juliana_data.values[0][30:69]\n",
    "juliana_aefs = juliana_data.values[0][69:103]\n",
    "juliana_empa = juliana_data.values[0][103:111]"
   ]
  },
  {
   "cell_type": "code",
   "execution_count": 50,
   "metadata": {},
   "outputs": [
    {
     "data": {
      "text/plain": [
       "array([5, 5, 5, 5, 5, 4, 2, 4], dtype=object)"
      ]
     },
     "execution_count": 50,
     "metadata": {},
     "output_type": "execute_result"
    }
   ],
   "source": [
    "from statistics import mean\n",
    "mean(juliana_empa)\n",
    "\"sente-se ansiosa diante de tarefas e portanto as procrastina\"\n",
    "juliana_empa"
   ]
  },
  {
   "cell_type": "code",
   "execution_count": 51,
   "metadata": {},
   "outputs": [],
   "source": [
    "juliana_adt_score = 0\n",
    "for value in juliana_adt:\n",
    "    if value == \"Sim\":\n",
    "            juliana_adt_score +=1"
   ]
  },
  {
   "cell_type": "code",
   "execution_count": 52,
   "metadata": {},
   "outputs": [
    {
     "data": {
      "text/plain": [
       "'administra mal ou mediocremente o tempo'"
      ]
     },
     "execution_count": 52,
     "metadata": {},
     "output_type": "execute_result"
    }
   ],
   "source": [
    "juliana_adt_score\n",
    "\"administra mal ou mediocremente o tempo\"\n"
   ]
  },
  {
   "cell_type": "code",
   "execution_count": 53,
   "metadata": {},
   "outputs": [
    {
     "data": {
      "text/plain": [
       "7.5"
      ]
     },
     "execution_count": 53,
     "metadata": {},
     "output_type": "execute_result"
    }
   ],
   "source": [
    "mean(juliana_aefs)"
   ]
  },
  {
   "cell_type": "code",
   "execution_count": 54,
   "metadata": {},
   "outputs": [],
   "source": [
    "adt_res = {\n",
    "\"Planejamento de Tempo\" : [juliana_adt[0], juliana_adt[13], juliana_adt[26]],\n",
    "\"Administração por Crise\" : [juliana_adt[1], juliana_adt[14], juliana_adt[27]],\n",
    "\"Organização Pessoal e Autodisciplina\" : [juliana_adt[2], juliana_adt[15], juliana_adt[28]],\n",
    "\"Comunicação\" : [juliana_adt[3], juliana_adt[16], juliana_adt[29]],\n",
    "\"Tomada de Decisões\" : [juliana_adt[4], juliana_adt[17], juliana_adt[30]],\n",
    "\"Diagnóstico de Problemas\" : [juliana_adt[5], juliana_adt[18], juliana_adt[31]],\n",
    "\"Delegação\" : [juliana_adt[6], juliana_adt[19], juliana_adt[32]],\n",
    "\"Capacidade de Dizer 'Não'\" : [juliana_adt[7], juliana_adt[20], juliana_adt[33]],\n",
    "\"Estabelecimento de Prioridades\" : [juliana_adt[8], juliana_adt[21], juliana_adt[34]],\n",
    "\"Perfeccionismo\" :[juliana_adt[9], juliana_adt[22], juliana_adt[35]],\n",
    "\"Estabelecimento de Objetivos Pessoais\" :[juliana_adt[10], juliana_adt[23], juliana_adt[36]],\n",
    "\"Flexibilidade no Trabalho\" :[juliana_adt[11], juliana_adt[24], juliana_adt[37]],\n",
    "\"Capacidade de Concentração\" :[juliana_adt[12], juliana_adt[25], juliana_adt[38]]}\n"
   ]
  },
  {
   "cell_type": "code",
   "execution_count": 55,
   "metadata": {},
   "outputs": [
    {
     "name": "stdout",
     "output_type": "stream",
     "text": [
      "1. Planeja razoavelmente bem o tempo; não lida bem com crises (problemas repentinos); não possui boas habilidades de organização pessoal e autodisciplina; se comunica de forma razoavelmente ineficiente; hesita em tomar decisões; não tem um olhar afinado para perceber problemas antes de eles aparecerem; tende a fazer mais tarefas do que os outros, mesmo quando poderia dividir de forma mais equilibrada; é razoavelmente assertiva, isto é, sabe expressar seus desejos e necessidades de forma razoável, tal como dizer não a pedidos indevidos; não estabelece bem suas prioridades ou não as estabelece de todo, resultando num comportamento 'reativo', tendo seu tempo direcionado por urgências;  é perfeccionista, e por isso pode hesitar em começar determinadas tarefas por medo de não concluía-las e/ou passa mais tempo que necessário aperfeiçoando suas tarefas; sabe estabelecer objetivos para si, e não tem muita dificuldade em saber do que quer; pode ser um tanto inflexível depois que uma decisão foi tomada; possui grandes dificuldades de manter a concentação focada na tarefa em questão\n",
      "\n",
      "2. Sente-se ansiosa diante de tarefas, seja por perfeccionismo ou dificuldade da matéria, e por isso hesita em começá-las \n",
      "\n",
      "3. possui um bom senso e expectativa positiva das suas capacidades; não se julga incapaz. Possui determinadas dificuldades, mas acredita ser capaz de vencê-las\n"
     ]
    }
   ],
   "source": [
    "adt_res\n",
    "print(\"1. Planeja razoavelmente bem o tempo; não lida bem com crises (problemas repentinos); não possui boas habilidades de organização pessoal e autodisciplina; se comunica de forma razoavelmente ineficiente; hesita em tomar decisões; não tem um olhar afinado para perceber problemas antes de eles aparecerem; tende a fazer mais tarefas do que os outros, mesmo quando poderia dividir de forma mais equilibrada; é razoavelmente assertiva, isto é, sabe expressar seus desejos e necessidades de forma razoável, tal como dizer não a pedidos indevidos; não estabelece bem suas prioridades ou não as estabelece de todo, resultando num comportamento 'reativo', tendo seu tempo direcionado por urgências;  é perfeccionista, e por isso pode hesitar em começar determinadas tarefas por medo de não concluía-las e/ou passa mais tempo que necessário aperfeiçoando suas tarefas; sabe estabelecer objetivos para si, e não tem muita dificuldade em saber do que quer; pode ser um tanto inflexível depois que uma decisão foi tomada; possui grandes dificuldades de manter a concentação focada na tarefa em questão\\n\\n2. Sente-se ansiosa diante de tarefas, seja por perfeccionismo ou dificuldade da matéria, e por isso hesita em começá-las \\n\\n3. possui um bom senso e expectativa positiva das suas capacidades; não se julga incapaz. Possui determinadas dificuldades, mas acredita ser capaz de vencê-las\") "
   ]
  },
  {
   "cell_type": "code",
   "execution_count": 56,
   "metadata": {},
   "outputs": [
    {
     "data": {
      "text/plain": [
       "39"
      ]
     },
     "execution_count": 56,
     "metadata": {},
     "output_type": "execute_result"
    }
   ],
   "source": [
    "len(juliana_data.values[0][30:69])"
   ]
  },
  {
   "cell_type": "code",
   "execution_count": null,
   "metadata": {},
   "outputs": [],
   "source": []
  }
 ],
 "metadata": {
  "kernelspec": {
   "display_name": "Python 3",
   "language": "python",
   "name": "python3"
  },
  "language_info": {
   "codemirror_mode": {
    "name": "ipython",
    "version": 3
   },
   "file_extension": ".py",
   "mimetype": "text/x-python",
   "name": "python",
   "nbconvert_exporter": "python",
   "pygments_lexer": "ipython3",
   "version": "3.7.3"
  }
 },
 "nbformat": 4,
 "nbformat_minor": 4
}
