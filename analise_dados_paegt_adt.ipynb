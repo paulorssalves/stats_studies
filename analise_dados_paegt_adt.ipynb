{
 "cells": [
  {
   "cell_type": "code",
   "execution_count": 1,
   "metadata": {},
   "outputs": [],
   "source": [
    "import pandas as pd\n",
    "import re\n",
    "from datetime import date, datetime"
   ]
  },
  {
   "cell_type": "code",
   "execution_count": 2,
   "metadata": {},
   "outputs": [],
   "source": [
    "def calculate_age(born, answer_date):\n",
    "    return answer_date.year - born.year - ((answer_date.month, answer_date.day) < (born.month, born.day))"
   ]
  },
  {
   "cell_type": "code",
   "execution_count": 3,
   "metadata": {
    "scrolled": true
   },
   "outputs": [],
   "source": [
    "data = pd.read_csv(\"data/impacto9.csv\", delimiter=\",\")"
   ]
  },
  {
   "cell_type": "code",
   "execution_count": 4,
   "metadata": {},
   "outputs": [],
   "source": [
    "birthdate = data[\"Data de nascimento\"]\n",
    "answer_date = data[\"Carimbo de data/hora\"]\n",
    "\n",
    "date_booleans = []\n",
    "\"\"\"\n",
    "for item in birthdate:\n",
    "    birth_date_object = datetime.strptime(item, '%Y-%m-%d')\n",
    "    age = calculate_age(birth_date_object)\n",
    "    if (age >= 18 and age <= 30):\n",
    "        date_booleans.append(True)\n",
    "    else:\n",
    "        date_booleans.append(False)\n",
    "\"\"\"\n",
    "for pair in zip(birthdate, answer_date):\n",
    "    birth_date_object = datetime.strptime(pair[0], '%Y-%m-%d')\n",
    "    answer_date_object = datetime.strptime(pair[1][0:10],'%Y/%m/%d')\n",
    "    age = calculate_age(birth_date_object, answer_date_object)\n",
    "    if (age >= 18 and age <= 30):\n",
    "        date_booleans.append(True)\n",
    "    else:\n",
    "        date_booleans.append(False)"
   ]
  },
  {
   "cell_type": "code",
   "execution_count": 5,
   "metadata": {},
   "outputs": [],
   "source": [
    "data_age_filtered = data[date_booleans]\n",
    "gender = data_age_filtered.Gênero"
   ]
  },
  {
   "cell_type": "code",
   "execution_count": 6,
   "metadata": {},
   "outputs": [],
   "source": [
    "homens = []\n",
    "mulheres = []\n",
    "for item in gender:\n",
    "    if re.search(\"Masculino\", item):\n",
    "        homens.append(True)\n",
    "    else:\n",
    "        homens.append(False)\n",
    "    if re.search(\"Feminino\", item):\n",
    "        mulheres.append(True)\n",
    "    else:\n",
    "        mulheres.append(False)\n",
    "        \n",
    "women_filter = pd.Series(mulheres)\n",
    "filtered_age_women = data_age_filtered[mulheres]\n",
    "filtered_age_men = data_age_filtered[homens]"
   ]
  },
  {
   "cell_type": "code",
   "execution_count": 7,
   "metadata": {},
   "outputs": [],
   "source": [
    "periodo_mulheres = filtered_age_women[\"Atual período da formação\"]\n",
    "mulheres_iniciantes = 0\n",
    "mulheres_finalistas = 0\n",
    "for value in periodo_mulheres:\n",
    "    if value == \"Entre o oitavo e o décimo período\":\n",
    "        mulheres_finalistas += 1\n",
    "    elif value == \"Entre o primeiro e o terceiro período\":\n",
    "        mulheres_iniciantes += 1"
   ]
  },
  {
   "cell_type": "code",
   "execution_count": 8,
   "metadata": {
    "scrolled": true
   },
   "outputs": [
    {
     "name": "stdout",
     "output_type": "stream",
     "text": [
      "256\n",
      "300\n"
     ]
    }
   ],
   "source": [
    "print(mulheres_iniciantes)\n",
    "print(mulheres_finalistas)"
   ]
  },
  {
   "cell_type": "code",
   "execution_count": 9,
   "metadata": {},
   "outputs": [
    {
     "name": "stdout",
     "output_type": "stream",
     "text": [
      "95\n",
      "99\n"
     ]
    }
   ],
   "source": [
    "periodo_homens = filtered_age_men[\"Atual período da formação\"]\n",
    "homens_iniciantes = 0\n",
    "homens_finalistas = 0\n",
    "for value in periodo_homens:\n",
    "    if value == \"Entre o oitavo e o décimo período\":\n",
    "        homens_finalistas += 1\n",
    "    elif value == \"Entre o primeiro e o terceiro período\":\n",
    "        homens_iniciantes += 1\n",
    "print(homens_iniciantes)\n",
    "print(homens_finalistas)"
   ]
  },
  {
   "cell_type": "code",
   "execution_count": 10,
   "metadata": {},
   "outputs": [],
   "source": [
    "mulheres_total = mulheres_iniciantes+mulheres_finalistas\n",
    "homens_total = homens_iniciantes+homens_finalistas"
   ]
  },
  {
   "cell_type": "code",
   "execution_count": 11,
   "metadata": {},
   "outputs": [
    {
     "data": {
      "text/plain": [
       "750"
      ]
     },
     "execution_count": 11,
     "metadata": {},
     "output_type": "execute_result"
    }
   ],
   "source": [
    "mulheres_total+homens_total"
   ]
  },
  {
   "cell_type": "code",
   "execution_count": 12,
   "metadata": {},
   "outputs": [
    {
     "data": {
      "text/plain": [
       "556"
      ]
     },
     "execution_count": 12,
     "metadata": {},
     "output_type": "execute_result"
    }
   ],
   "source": [
    "mulheres_total"
   ]
  },
  {
   "cell_type": "code",
   "execution_count": 13,
   "metadata": {},
   "outputs": [
    {
     "data": {
      "text/plain": [
       "194"
      ]
     },
     "execution_count": 13,
     "metadata": {},
     "output_type": "execute_result"
    }
   ],
   "source": [
    "homens_total"
   ]
  },
  {
   "cell_type": "code",
   "execution_count": 14,
   "metadata": {},
   "outputs": [
    {
     "data": {
      "text/plain": [
       "141"
      ]
     },
     "execution_count": 14,
     "metadata": {},
     "output_type": "execute_result"
    }
   ],
   "source": [
    "homens_intermediarios=0\n",
    "for value in periodo_homens:\n",
    "    if value == \"Entre o quarto e o sétimo período\":\n",
    "        homens_intermediarios+=1\n",
    "homens_intermediarios"
   ]
  },
  {
   "cell_type": "code",
   "execution_count": 15,
   "metadata": {},
   "outputs": [
    {
     "data": {
      "text/plain": [
       "439"
      ]
     },
     "execution_count": 15,
     "metadata": {},
     "output_type": "execute_result"
    }
   ],
   "source": [
    "mulheres_intermediarias=0\n",
    "for value in periodo_mulheres:\n",
    "    if value == \"Entre o quarto e o sétimo período\":\n",
    "        mulheres_intermediarias += 1\n",
    "mulheres_intermediarias"
   ]
  },
  {
   "cell_type": "code",
   "execution_count": 16,
   "metadata": {},
   "outputs": [
    {
     "data": {
      "text/plain": [
       "0.5791044776119403"
      ]
     },
     "execution_count": 16,
     "metadata": {},
     "output_type": "execute_result"
    }
   ],
   "source": [
    "def percentage(sample_n, valuable_amount):\n",
    "    x = valuable_amount / sample_n\n",
    "    return x\n",
    "percentage(homens_total+homens_intermediarios, homens_total)"
   ]
  },
  {
   "cell_type": "code",
   "execution_count": 17,
   "metadata": {},
   "outputs": [
    {
     "data": {
      "text/plain": [
       "385"
      ]
     },
     "execution_count": 17,
     "metadata": {},
     "output_type": "execute_result"
    }
   ],
   "source": [
    "len(periodo_homens)"
   ]
  },
  {
   "cell_type": "code",
   "execution_count": 18,
   "metadata": {},
   "outputs": [
    {
     "data": {
      "text/plain": [
       "95"
      ]
     },
     "execution_count": 18,
     "metadata": {},
     "output_type": "execute_result"
    }
   ],
   "source": [
    "homens_iniciantes"
   ]
  },
  {
   "cell_type": "code",
   "execution_count": 19,
   "metadata": {},
   "outputs": [
    {
     "data": {
      "text/plain": [
       "141"
      ]
     },
     "execution_count": 19,
     "metadata": {},
     "output_type": "execute_result"
    }
   ],
   "source": [
    "homens_intermediarios"
   ]
  },
  {
   "cell_type": "code",
   "execution_count": 20,
   "metadata": {},
   "outputs": [
    {
     "data": {
      "text/plain": [
       "99"
      ]
     },
     "execution_count": 20,
     "metadata": {},
     "output_type": "execute_result"
    }
   ],
   "source": [
    "homens_finalistas"
   ]
  },
  {
   "cell_type": "code",
   "execution_count": 21,
   "metadata": {},
   "outputs": [
    {
     "data": {
      "text/plain": [
       "335"
      ]
     },
     "execution_count": 21,
     "metadata": {},
     "output_type": "execute_result"
    }
   ],
   "source": [
    "homens_intermediarios+homens_finalistas+homens_iniciantes"
   ]
  },
  {
   "cell_type": "code",
   "execution_count": 22,
   "metadata": {},
   "outputs": [],
   "source": [
    "gender = data[\"Gênero\"]\n",
    "inicio = 0\n",
    "fim = 0\n",
    "meio = 0\n",
    "estourado = 0\n",
    "for item in periodo_homens: \n",
    "    if item == \"Além do décimo período\":\n",
    "        estourado+=1\n",
    "    elif item == \"Entre o primeiro e o terceiro período\":\n",
    "        inicio+=1\n",
    "    elif item == \"Entre o quarto e o sétimo período\":\n",
    "        meio +=1\n",
    "    elif item == \"Entre o oitavo e o décimo período\":\n",
    "        fim += 1"
   ]
  },
  {
   "cell_type": "code",
   "execution_count": 23,
   "metadata": {},
   "outputs": [
    {
     "name": "stdout",
     "output_type": "stream",
     "text": [
      "191\n",
      "194\n"
     ]
    }
   ],
   "source": [
    "print(meio + estourado)\n",
    "print(inicio + fim)"
   ]
  },
  {
   "cell_type": "code",
   "execution_count": 24,
   "metadata": {},
   "outputs": [
    {
     "name": "stdout",
     "output_type": "stream",
     "text": [
      "inicio: 95; meio: 141; fim: 99, estourado: 50\n",
      "total: 385\n"
     ]
    }
   ],
   "source": [
    "print(\"inicio: {}; meio: {}; fim: {}, estourado: {}\".format(inicio, meio, fim, estourado))\n",
    "print(\"total: {}\".format(sum([inicio, meio, fim, estourado])))\n",
    "total_h = inicio+fim+meio+estourado\n",
    "valido_h = inicio+fim"
   ]
  },
  {
   "cell_type": "code",
   "execution_count": 25,
   "metadata": {},
   "outputs": [],
   "source": [
    "birthdate = data[\"Data de nascimento\"]\n",
    "answer_date = data[\"Carimbo de data/hora\"]\n",
    "\n",
    "date_booleans = []\n",
    "\n",
    "for pair in zip(birthdate, answer_date):\n",
    "    birth_date_object = datetime.strptime(pair[0], '%Y-%m-%d')\n",
    "    answer_date_object = datetime.strptime(pair[1][0:10],'%Y/%m/%d')\n",
    "    age = calculate_age(birth_date_object, answer_date_object)\n",
    "    if (age >= 18 and age <= 30):\n",
    "        date_booleans.append(True)\n",
    "    else:\n",
    "        date_booleans.append(False)"
   ]
  },
  {
   "cell_type": "code",
   "execution_count": 26,
   "metadata": {},
   "outputs": [],
   "source": [
    "gender = data[\"Gênero\"]\n",
    "inicio = 0\n",
    "fim = 0\n",
    "meio = 0\n",
    "estourado = 0\n",
    "for item in periodo_mulheres: \n",
    "    if item == \"Além do décimo período\":\n",
    "        estourado+=1\n",
    "    elif item == \"Entre o primeiro e o terceiro período\":\n",
    "        inicio+=1\n",
    "    elif item == \"Entre o quarto e o sétimo período\":\n",
    "        meio +=1\n",
    "    elif item == \"Entre o oitavo e o décimo período\":\n",
    "        fim += 1"
   ]
  },
  {
   "cell_type": "code",
   "execution_count": 27,
   "metadata": {},
   "outputs": [
    {
     "name": "stdout",
     "output_type": "stream",
     "text": [
      "inicio: 256; meio: 439; fim: 300, estourado: 103\n",
      "total: 1098\n"
     ]
    }
   ],
   "source": [
    "print(\"inicio: {}; meio: {}; fim: {}, estourado: {}\".format(inicio, meio, fim, estourado))\n",
    "print(\"total: {}\".format(sum([inicio, meio, fim, estourado])))\n",
    "total_f = inicio+fim+meio+estourado\n",
    "valido_f = inicio+fim"
   ]
  },
  {
   "cell_type": "code",
   "execution_count": 28,
   "metadata": {},
   "outputs": [],
   "source": [
    "respostas_uteis = len(data_age_filtered)"
   ]
  },
  {
   "cell_type": "code",
   "execution_count": 29,
   "metadata": {},
   "outputs": [
    {
     "data": {
      "text/plain": [
       "1492"
      ]
     },
     "execution_count": 29,
     "metadata": {},
     "output_type": "execute_result"
    }
   ],
   "source": [
    "respostas_uteis"
   ]
  },
  {
   "cell_type": "code",
   "execution_count": 30,
   "metadata": {},
   "outputs": [],
   "source": [
    "total_t = total_h + total_f"
   ]
  },
  {
   "cell_type": "code",
   "execution_count": 31,
   "metadata": {},
   "outputs": [
    {
     "data": {
      "text/plain": [
       "0.2596089008766015"
      ]
     },
     "execution_count": 31,
     "metadata": {},
     "output_type": "execute_result"
    }
   ],
   "source": [
    "total_h/total_t"
   ]
  },
  {
   "cell_type": "code",
   "execution_count": 32,
   "metadata": {},
   "outputs": [
    {
     "data": {
      "text/plain": [
       "1779"
      ]
     },
     "execution_count": 32,
     "metadata": {},
     "output_type": "execute_result"
    }
   ],
   "source": [
    "len(data)"
   ]
  },
  {
   "cell_type": "code",
   "execution_count": 33,
   "metadata": {},
   "outputs": [
    {
     "data": {
      "text/plain": [
       "1483"
      ]
     },
     "execution_count": 33,
     "metadata": {},
     "output_type": "execute_result"
    }
   ],
   "source": [
    "total_t"
   ]
  },
  {
   "cell_type": "code",
   "execution_count": 34,
   "metadata": {},
   "outputs": [
    {
     "data": {
      "text/plain": [
       "0.5063752276867031"
      ]
     },
     "execution_count": 34,
     "metadata": {},
     "output_type": "execute_result"
    }
   ],
   "source": [
    "valido_f/total_f"
   ]
  },
  {
   "cell_type": "code",
   "execution_count": 35,
   "metadata": {},
   "outputs": [
    {
     "data": {
      "text/plain": [
       "0.5038961038961038"
      ]
     },
     "execution_count": 35,
     "metadata": {},
     "output_type": "execute_result"
    }
   ],
   "source": [
    "valido_h/total_h"
   ]
  },
  {
   "cell_type": "code",
   "execution_count": 36,
   "metadata": {},
   "outputs": [
    {
     "data": {
      "text/plain": [
       "0.5057316250842886"
      ]
     },
     "execution_count": 36,
     "metadata": {},
     "output_type": "execute_result"
    }
   ],
   "source": [
    "valido_f/total_t + valido_h/total_t"
   ]
  },
  {
   "cell_type": "code",
   "execution_count": 37,
   "metadata": {},
   "outputs": [
    {
     "data": {
      "text/plain": [
       "0.42158516020236086"
      ]
     },
     "execution_count": 37,
     "metadata": {},
     "output_type": "execute_result"
    }
   ],
   "source": [
    "(valido_f + valido_h) / len(data)"
   ]
  },
  {
   "cell_type": "code",
   "execution_count": 38,
   "metadata": {},
   "outputs": [
    {
     "data": {
      "text/plain": [
       "0.21641371557054526"
      ]
     },
     "execution_count": 38,
     "metadata": {},
     "output_type": "execute_result"
    }
   ],
   "source": [
    "total_h/len(data)"
   ]
  },
  {
   "cell_type": "code",
   "execution_count": 39,
   "metadata": {},
   "outputs": [
    {
     "data": {
      "text/plain": [
       "0.31253513209668354"
      ]
     },
     "execution_count": 39,
     "metadata": {},
     "output_type": "execute_result"
    }
   ],
   "source": [
    "valido_f/len(data)"
   ]
  },
  {
   "cell_type": "code",
   "execution_count": 40,
   "metadata": {},
   "outputs": [],
   "source": [
    "coef = valido_h/len(data)"
   ]
  },
  {
   "cell_type": "code",
   "execution_count": 41,
   "metadata": {},
   "outputs": [
    {
     "data": {
      "text/plain": [
       "276.8780213603148"
      ]
     },
     "execution_count": 41,
     "metadata": {},
     "output_type": "execute_result"
    }
   ],
   "source": [
    "coef * 2539"
   ]
  },
  {
   "cell_type": "code",
   "execution_count": 42,
   "metadata": {},
   "outputs": [
    {
     "data": {
      "text/plain": [
       "0.5026809651474531"
      ]
     },
     "execution_count": 42,
     "metadata": {},
     "output_type": "execute_result"
    }
   ],
   "source": [
    "(valido_f+valido_h)/len(data_age_filtered)"
   ]
  },
  {
   "cell_type": "code",
   "execution_count": 43,
   "metadata": {},
   "outputs": [
    {
     "data": {
      "text/plain": [
       "0.10905002810567735"
      ]
     },
     "execution_count": 43,
     "metadata": {},
     "output_type": "execute_result"
    }
   ],
   "source": [
    "valido_h/len(data)"
   ]
  },
  {
   "cell_type": "code",
   "execution_count": 44,
   "metadata": {},
   "outputs": [
    {
     "data": {
      "text/plain": [
       "1779"
      ]
     },
     "execution_count": 44,
     "metadata": {},
     "output_type": "execute_result"
    }
   ],
   "source": [
    "len(data)"
   ]
  }
 ],
 "metadata": {
  "kernelspec": {
   "display_name": "Python 3",
   "language": "python",
   "name": "python3"
  },
  "language_info": {
   "codemirror_mode": {
    "name": "ipython",
    "version": 3
   },
   "file_extension": ".py",
   "mimetype": "text/x-python",
   "name": "python",
   "nbconvert_exporter": "python",
   "pygments_lexer": "ipython3",
   "version": "3.7.3"
  }
 },
 "nbformat": 4,
 "nbformat_minor": 4
}
